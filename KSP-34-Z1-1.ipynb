{
 "cells": [
  {
   "cell_type": "code",
   "execution_count": null,
   "id": "36d84ae7",
   "metadata": {},
   "outputs": [],
   "source": [
    "def calcFromZero(toNum, a):\n",
    "    return int(toNum / a)"
   ]
  },
  {
   "cell_type": "code",
   "execution_count": null,
   "id": "962b0f38",
   "metadata": {},
   "outputs": [],
   "source": [
    "def calc(fromNum, toNum, a):\n",
    "    if fromNum % a == 0:\n",
    "        fromNum -= 1\n",
    "    \n",
    "    x = calcFromZero(fromNum, a)\n",
    "    y = calcFromZero(toNum, a)\n",
    "    \n",
    "    z = y - x\n",
    "    \n",
    "    if z < 0:\n",
    "        return 0\n",
    "    \n",
    "    return z"
   ]
  },
  {
   "cell_type": "code",
   "execution_count": null,
   "id": "76ee467b",
   "metadata": {},
   "outputs": [],
   "source": [
    "def process(fromNum, toNum):\n",
    "    a = toNum - fromNum + 1\n",
    "    c = calc(fromNum, toNum, 48)\n",
    "    b = calc(fromNum, toNum, 3) - c\n",
    "    a = a - b\n",
    "    \n",
    "    return ((42 * a) + (43 * b))"
   ]
  },
  {
   "cell_type": "code",
   "execution_count": null,
   "id": "17ce91cb",
   "metadata": {},
   "outputs": [],
   "source": [
    "def processSlow(fromNum, toNum):\n",
    "    i = fromNum\n",
    "    x = 0\n",
    "    while True:\n",
    "        if i > toNum:\n",
    "            break\n",
    "        \n",
    "        if i % 3 == 0:\n",
    "            if i % 48 == 0:\n",
    "                x += 42\n",
    "                i += 1\n",
    "                continue\n",
    "            x += 43\n",
    "            i += 1\n",
    "            continue\n",
    "        x += 42\n",
    "        i += 1\n",
    "        continue\n",
    "    \n",
    "    return x"
   ]
  },
  {
   "cell_type": "code",
   "execution_count": null,
   "id": "26eb1a1c",
   "metadata": {},
   "outputs": [],
   "source": [
    "n = int(input())\n",
    "\n",
    "class Input:\n",
    "    def __init__(self, fromNum, toNum):\n",
    "        self.fromNum = fromNum\n",
    "        self.toNum = toNum\n",
    "        return\n",
    "    \n",
    "    def GetFrom(self):\n",
    "        return self.fromNum\n",
    "    \n",
    "    def GetTo(self):\n",
    "        return self.toNum\n",
    "\n",
    "i = 0\n",
    "\n",
    "inputs = [None] * n\n",
    "\n",
    "while True:\n",
    "    if not i < n:\n",
    "        break\n",
    "    \n",
    "    fromNum, toNum = input().split()\n",
    "    fromNum = int(fromNum)\n",
    "    toNum = int(toNum)\n",
    "    \n",
    "    inputs[i] = Input(fromNum, toNum)\n",
    "    \n",
    "    i += 1"
   ]
  },
  {
   "cell_type": "code",
   "execution_count": null,
   "id": "81004ef2",
   "metadata": {
    "scrolled": true
   },
   "outputs": [],
   "source": [
    "for inp in inputs:\n",
    "    res = process(inp.GetFrom(), inp.GetTo())\n",
    "    print(res)"
   ]
  }
 ],
 "metadata": {
  "kernelspec": {
   "display_name": "Python 3 (ipykernel)",
   "language": "python",
   "name": "python3"
  },
  "language_info": {
   "codemirror_mode": {
    "name": "ipython",
    "version": 3
   },
   "file_extension": ".py",
   "mimetype": "text/x-python",
   "name": "python",
   "nbconvert_exporter": "python",
   "pygments_lexer": "ipython3",
   "version": "3.9.1"
  }
 },
 "nbformat": 4,
 "nbformat_minor": 5
}
